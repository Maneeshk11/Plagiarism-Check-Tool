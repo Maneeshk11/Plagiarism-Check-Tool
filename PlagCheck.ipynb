{
 "cells": [
  {
   "cell_type": "code",
   "execution_count": 298,
   "id": "f4855d18",
   "metadata": {},
   "outputs": [],
   "source": [
    "import nltk"
   ]
  },
  {
   "cell_type": "code",
   "execution_count": 357,
   "id": "e0f8a883",
   "metadata": {},
   "outputs": [],
   "source": [
    "def paragraph_tokenizer(paragraph):\n",
    "    par_data = paragraph\n",
    "    nltk_tokens = nltk.sent_tokenize(par_data)\n",
    "    return nltk_tokens"
   ]
  },
  {
   "cell_type": "code",
   "execution_count": 358,
   "id": "2eb819d9",
   "metadata": {},
   "outputs": [],
   "source": [
    "def sentence_tokenizer(sentence):\n",
    "    sent_data = sentence\n",
    "    nltk_tokens = nltk.word_tokenize(sent_data)\n",
    "    return nltk_tokens"
   ]
  },
  {
   "cell_type": "code",
   "execution_count": 359,
   "id": "3ecae33f",
   "metadata": {},
   "outputs": [],
   "source": [
    "# --------  finding edit distance using recursion ----------\n",
    "\n",
    "# def edit_distance(s, t):\n",
    "#     if s == \"\":\n",
    "#         return len(t)\n",
    "#     if t == \"\":\n",
    "#         return len(s)\n",
    "#     if s[-1] == t[-1]:\n",
    "#         cost = 0\n",
    "#     else:\n",
    "#         cost = 1\n",
    "#     res = min([edit_distance(s[:-1], t)+1, edit_distance(s, t[:-1])+1, edit_distance(s[:-1], t[:-1]) + cost])\n",
    "#     return res"
   ]
  },
  {
   "cell_type": "code",
   "execution_count": 360,
   "id": "6018b2b2",
   "metadata": {},
   "outputs": [],
   "source": [
    "#----------- finding edit distance using a matrix -----------\n",
    "\n",
    "def edit_distance(s1, s2):\n",
    "    m=len(s1)+1\n",
    "    n=len(s2)+1\n",
    "    tbl = {}\n",
    "    for i in range(m): \n",
    "        tbl[i,0]=i\n",
    "    for j in range(n): \n",
    "        tbl[0,j]=j\n",
    "    for i in range(1, m):\n",
    "        for j in range(1, n):\n",
    "            cost = 0 if s1[i-1] == s2[j-1] else 1\n",
    "            tbl[i,j] = min(tbl[i, j-1]+1, tbl[i-1, j]+1, tbl[i-1,j-1]+cost)\n",
    "    return tbl[i,j]"
   ]
  },
  {
   "cell_type": "code",
   "execution_count": 361,
   "id": "b8a2c5ee",
   "metadata": {},
   "outputs": [],
   "source": [
    "def calcPlagForTwo(Test, Source) :\n",
    "    \n",
    "#Hardcoded data\n",
    "    TestArr = []\n",
    "    SourceArr = []\n",
    "    for s in paragraph_tokenizer(Test) :\n",
    "        TestArr.append(s)\n",
    "    for s in paragraph_tokenizer(Source) :\n",
    "        SourceArr.append(s)\n",
    "#     for s1,s2 in zip(TestArr,SourceArr) :\n",
    "#         if edit_distance(s1,s2) < len(s1)/2 :\n",
    "#             print(\"there might be plaigarism in sentences %s\" % (count))\n",
    "#         count = count+1\n",
    "    count = 0\n",
    "    for s1 in TestArr:\n",
    "        for s2 in SourceArr:\n",
    "            if edit_distance(s1, s2) < len(s1)/2:\n",
    "#                 print(\"there is plag indication in these sentences\")\n",
    "                count +=1\n",
    "                    \n",
    "    return count"
   ]
  },
  {
   "cell_type": "code",
   "execution_count": 365,
   "id": "e5797239",
   "metadata": {},
   "outputs": [],
   "source": [
    "def plagChecker(blogs, k):\n",
    "    num = int(k)\n",
    "    res = {}\n",
    "    for i in range(len(blogs)):\n",
    "        plagScore = 0\n",
    "        for j in range(len(blogs)):\n",
    "            if (j != i):\n",
    "                plagScore += calcPlagForTwo(blogs[i], blogs[j])\n",
    "        plagScore /= (len(blogs) - 1)\n",
    "        res[i] = plagScore\n",
    "    \n",
    "    sortedRes = sorted(res.items(), key=lambda x:x[1])\n",
    "    for key in sortedRes:\n",
    "        print(blogs[key[0]])\n",
    "        num -= 1\n",
    "        if (num == 0):\n",
    "            break\n",
    "            "
   ]
  },
  {
   "cell_type": "code",
   "execution_count": null,
   "id": "b1af36c2",
   "metadata": {},
   "outputs": [],
   "source": []
  },
  {
   "cell_type": "code",
   "execution_count": 366,
   "id": "b739a5cb",
   "metadata": {},
   "outputs": [],
   "source": [
    "def main():\n",
    "    blogs = [\"Hello how are you. What is you name. India is my country\",\n",
    "        \"india is my country. Hello what is you\",\n",
    "        \"india is my country. roifgjmrifg jkmo opkm\",\n",
    "        \"hello where are it, prprprpr, in. kjbnhb, hubygvdd\"]\n",
    "    \n",
    "    k = input(\"Number of least similar blogs to return: \")\n",
    "    print(f\"\\nthe top {k} least similar blogs are : \\n\")\n",
    "    plagChecker(blogs, k)\n",
    "    "
   ]
  },
  {
   "cell_type": "code",
   "execution_count": 367,
   "id": "3265f0da",
   "metadata": {},
   "outputs": [
    {
     "name": "stdout",
     "output_type": "stream",
     "text": [
      "Number of least similar blogs to return: 2\n",
      "\n",
      "the top 2 least similar blogs are : \n",
      "\n",
      "hello where are it, prprprpr, in. kjbnhb, hubygvdd\n",
      "india is my country. roifgjmrifg jkmo opkm\n"
     ]
    }
   ],
   "source": [
    "if __name__ == \"__main__\":\n",
    "    main()"
   ]
  },
  {
   "cell_type": "code",
   "execution_count": null,
   "id": "af62cc2b",
   "metadata": {},
   "outputs": [],
   "source": []
  }
 ],
 "metadata": {
  "kernelspec": {
   "display_name": "Python 3 (ipykernel)",
   "language": "python",
   "name": "python3"
  },
  "language_info": {
   "codemirror_mode": {
    "name": "ipython",
    "version": 3
   },
   "file_extension": ".py",
   "mimetype": "text/x-python",
   "name": "python",
   "nbconvert_exporter": "python",
   "pygments_lexer": "ipython3",
   "version": "3.9.13"
  }
 },
 "nbformat": 4,
 "nbformat_minor": 5
}
